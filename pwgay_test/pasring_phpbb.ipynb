{
 "cells": [
  {
   "cell_type": "code",
   "execution_count": 3,
   "metadata": {},
   "outputs": [],
   "source": [
    "import re\n",
    "import html\n",
    "import yaml"
   ]
  },
  {
   "cell_type": "code",
   "execution_count": 5,
   "metadata": {},
   "outputs": [],
   "source": [
    "def split_post_into_block_tokens(post_text, start_pattern, end_pattern):\n",
    "    \n",
    "    token_groups = [\n",
    "            [\n",
    "                {\"token_type\" : \"bbcode\", \"value\" : e }\n",
    "                if i%2 ==0\n",
    "                else {\"token_type\" : \"finish\", \"value\" : e}\n",
    "                for i, e in enumerate(\n",
    "                    re.split(end_pattern, item)\n",
    "                )\n",
    "            ]\n",
    "            if index%2 == 0\n",
    "            else [{\"token_type\" : \"start\", \"value\" : item}]\n",
    "            for index, item in enumerate(\n",
    "                re.split(start_pattern, post_text)\n",
    "            )\n",
    "        ]\n",
    "    \n",
    "    tokens = []\n",
    "    for g in token_groups:\n",
    "        tokens.extend(g)\n",
    "    \n",
    "    return tokens"
   ]
  },
  {
   "cell_type": "code",
   "execution_count": 6,
   "metadata": {},
   "outputs": [],
   "source": [
    "def text_is_empty(txt):\n",
    "    if txt == None:\n",
    "        return True\n",
    "    return re.search('^[ \\n\\t]*$', txt) != None"
   ]
  },
  {
   "cell_type": "code",
   "execution_count": 7,
   "metadata": {},
   "outputs": [],
   "source": [
    "def clean_up_text(txt):\n",
    "    txt = re.sub(r'\\t', ' ', txt) # remove tabs\n",
    "    txt = re.sub(r'  +', ' ', txt) # deduplicate spaces\n",
    "    txt = re.sub(r' +\\n', '\\n', txt) # no spaces before a new line - it is a \"space\" in an of its own).\n",
    "    txt = re.sub(r'\\n +', '\\n', txt) # ditto, for spaces after a new line\n",
    "    txt = re.sub(r'\\n\\n+', '\\n\\n', txt) # more than oen new line is at max. 2 new lines\n",
    "    txt = re.sub(r'([^\\n])\\n([^\\n])', r'\\1\\n  \\2', txt)\n",
    "    return txt"
   ]
  },
  {
   "cell_type": "code",
   "execution_count": 8,
   "metadata": {},
   "outputs": [],
   "source": [
    "def clean_token_list(token_list):\n",
    "    result = [\n",
    "        item\n",
    "        for item in token_list\n",
    "        if (\n",
    "            item['token_type'] != 'bbcode'\n",
    "            or not text_is_empty(item['value'])\n",
    "        )\n",
    "    ]\n",
    "    return result"
   ]
  },
  {
   "cell_type": "code",
   "execution_count": 9,
   "metadata": {},
   "outputs": [],
   "source": [
    "def build_block_tree(tokens):\n",
    "\n",
    "    block_tree = {\n",
    "        'branch_type' : 'root',\n",
    "        'elements' : []\n",
    "    }\n",
    "    curr_branch = block_tree\n",
    "    breadcrumbs = []\n",
    "\n",
    "    for pos in range(0,len(tokens)):\n",
    "\n",
    "        token = tokens[pos]\n",
    "        token_type = token['token_type']\n",
    "        token_value = token['value']\n",
    "\n",
    "        # stay on the same tree level\n",
    "        if token_type == 'bbcode':\n",
    "\n",
    "            leaf = {\n",
    "                \"branch_type\" : token_type,\n",
    "                \"value\" : token_value,\n",
    "                \"elements\" : []\n",
    "            }\n",
    "\n",
    "            curr_branch['elements'].append(leaf)\n",
    "\n",
    "        # embed a lower level\n",
    "        if token_type == 'start':\n",
    "\n",
    "            item_parts =  token_value.split('=')\n",
    "            item_type = item_parts[0]\n",
    "            item_val = ''\n",
    "            if len(item_parts) > 1:\n",
    "                item_val = item_parts[1]\n",
    "\n",
    "            leaf = {\n",
    "                \"branch_type\" : item_type,\n",
    "                \"value\" : item_val,\n",
    "                \"elements\" : []\n",
    "            }\n",
    "\n",
    "            curr_branch['elements'].append(leaf)\n",
    "            breadcrumbs.append(curr_branch)\n",
    "            curr_branch = leaf\n",
    "            \n",
    "\n",
    "        # roll-up to a higher layer\n",
    "        if token['token_type'] == 'finish':\n",
    "\n",
    "            # check if last opening and current closing tags match\n",
    "            containing_branch_tag = curr_branch['branch_type']\n",
    "            if containing_branch_tag == token_value:\n",
    "                curr_branch = breadcrumbs.pop()\n",
    "\n",
    "    return block_tree"
   ]
  },
  {
   "cell_type": "code",
   "execution_count": 25,
   "metadata": {},
   "outputs": [],
   "source": [
    "with open(\"post.txt\", 'r') as f:\n",
    "    post_text = f.read()\n",
    "    post_text = html.unescape(post_text)\n",
    "\n",
    "bb_uid = '17hlnlju'"
   ]
  },
  {
   "cell_type": "code",
   "execution_count": 11,
   "metadata": {},
   "outputs": [],
   "source": [
    "block_tags = 'quote|code|list|\\*'\n",
    "start_pattern = f'\\[((?:{block_tags}).*?)\\:{bb_uid}\\]'\n",
    "end_pattern = f'\\[\\/({block_tags})(?:\\:m|\\:u|\\:o)?\\:{bb_uid}\\]'"
   ]
  },
  {
   "cell_type": "code",
   "execution_count": 12,
   "metadata": {},
   "outputs": [],
   "source": [
    "block_tokens = split_post_into_block_tokens(post_text, start_pattern, end_pattern)\n",
    "clean_block_tokens =  clean_token_list(block_tokens)"
   ]
  },
  {
   "cell_type": "code",
   "execution_count": 13,
   "metadata": {},
   "outputs": [],
   "source": [
    "block_tree = build_block_tree(clean_block_tokens)"
   ]
  },
  {
   "cell_type": "code",
   "execution_count": 80,
   "metadata": {},
   "outputs": [],
   "source": [
    "text = '''\n",
    "aaa[img:17hlnlju]https&#58;//v&#46;wpimg&#46;pl/MDc0OC5wYiUCUjlwGgxvMEEKbSpcVWFmFhJ1YRpFfHwbAXxzGgQqMxMeODNWEyNqE1xgIgdHdCZWBXl1DUYvJloELnZTRSl9U1N3IQVDfHRUBHdtRRkqZh4[/img:17hlnlju]bbb[youtube:17hlnlju]iBxVRwynmmE[/youtube:17hlnlju]ccc[url:17hlnlju]http&#58;//www&#46;wp&#46;pl[/url:17hlnlju]ddd[url=http&#58;//www&#46;wp&#46;pl:17hlnlju]wu pe pe el[/url:17hlnlju]eee\n",
    "'''"
   ]
  },
  {
   "cell_type": "code",
   "execution_count": 23,
   "metadata": {},
   "outputs": [
    {
     "data": {
      "text/plain": [
       "[('aa', 'asfvetbybberfg')]"
      ]
     },
     "execution_count": 23,
     "metadata": {},
     "output_type": "execute_result"
    }
   ],
   "source": [
    "re.findall(r'(aa|bb|cc)(.*?)\\1', 'asdvdbtaaasfvetbybberfgaadevbtcc')"
   ]
  },
  {
   "cell_type": "code",
   "execution_count": 94,
   "metadata": {},
   "outputs": [
    {
     "data": {
      "text/plain": [
       "[('img',\n",
       "  '',\n",
       "  ':17hlnlju]https&#58;//v&#46;wpimg&#46;pl/MDc0OC5wYiUCUjlwGgxvMEEKbSpcVWFmFhJ1YRpFfHwbAXxzGgQqMxMeODNWEyNqE1xgIgdHdCZWBXl1DUYvJloELnZTRSl9U1N3IQVDfHRUBHdtRRkqZh4'),\n",
       " ('youtube', '', ':17hlnlju]iBxVRwynmmE'),\n",
       " ('url', '', ':17hlnlju]http&#58;//www&#46;wp&#46;pl'),\n",
       " ('url', '=http&#58;//www&#46;wp&#46;pl', ':17hlnlju]wu pe pe el')]"
      ]
     },
     "execution_count": 94,
     "metadata": {},
     "output_type": "execute_result"
    }
   ],
   "source": [
    "item_tags = 'url|img|youtube'\n",
    "item_pattern_str = f'(?:\\[(?:({item_tags}))=?([^\\]]*)\\:{bb_uid}\\])(.*?)\\[/[^\\]]*\\]'\n",
    "item_pattern_str = f'(?<=\\[)({item_tags})(?==?)([^\\]]*)(?=\\:{bb_uid}\\])(.*?)(?=\\[/[^\\]]*\\])'\n",
    "item_pattern = re.compile(item_pattern_str)\n",
    "re.findall(item_pattern, text)"
   ]
  },
  {
   "cell_type": "code",
   "execution_count": 124,
   "metadata": {},
   "outputs": [
    {
     "data": {
      "text/plain": [
       "{'type': 'list',\n",
       " 'value': '1',\n",
       " 'elements': [{'type': '*',\n",
       "   'value': '',\n",
       "   'elements': [{'type': 'text', 'value': 'eee'}]},\n",
       "  {'type': '*', 'value': '', 'elements': [{'type': 'text', 'value': 'fff'}]},\n",
       "  {'type': 'list',\n",
       "   'value': 'a',\n",
       "   'elements': [{'type': '*',\n",
       "     'value': '',\n",
       "     'elements': [{'type': 'text', 'value': '111'}]},\n",
       "    {'type': '*', 'value': '', 'elements': [{'type': 'text', 'value': '222'}]},\n",
       "    {'type': '*',\n",
       "     'value': '',\n",
       "     'elements': [{'type': 'text', 'value': '333'}]}]},\n",
       "  {'type': '*', 'value': '', 'elements': [{'type': 'text', 'value': 'x'}]},\n",
       "  {'type': 'list',\n",
       "   'value': 'a',\n",
       "   'elements': [{'type': '*',\n",
       "     'value': '',\n",
       "     'elements': [{'type': 'text', 'value': '111'}]},\n",
       "    {'type': 'list',\n",
       "     'value': 'a',\n",
       "     'elements': [{'type': '*',\n",
       "       'value': '',\n",
       "       'elements': [{'type': 'text', 'value': '444'}]},\n",
       "      {'type': '*',\n",
       "       'value': '',\n",
       "       'elements': [{'type': 'text', 'value': '555'}]},\n",
       "      {'type': '*',\n",
       "       'value': '',\n",
       "       'elements': [{'type': 'text', 'value': '666'}]}]},\n",
       "    {'type': '*',\n",
       "     'value': '',\n",
       "     'elements': [{'type': 'text', 'value': '333'}]}]},\n",
       "  {'type': '*', 'value': '', 'elements': [{'type': 'text', 'value': 'iii'}]}]}"
      ]
     },
     "execution_count": 124,
     "metadata": {},
     "output_type": "execute_result"
    }
   ],
   "source": [
    "root['elements'][1]['elements'][12]"
   ]
  },
  {
   "cell_type": "code",
   "execution_count": 125,
   "metadata": {},
   "outputs": [
    {
     "name": "stdout",
     "output_type": "stream",
     "text": [
      "list : \n",
      "list : list\n",
      "list : \n",
      "list : \n",
      "list : list\n",
      "list : list\n",
      "list : list\n"
     ]
    }
   ],
   "source": [
    "md = ''\n",
    "for i in root['elements'][1]['elements']: \n",
    "    md += render(i)"
   ]
  },
  {
   "cell_type": "code",
   "execution_count": 126,
   "metadata": {},
   "outputs": [
    {
     "name": "stdout",
     "output_type": "stream",
     "text": [
      "bold\n",
      "\n",
      " **lorem** \n",
      "\n",
      "italic\n",
      "\n",
      " _lorem_ \n",
      "\n",
      "underscore\n",
      "\n",
      " <u>lorem</u> \n",
      "\n",
      "cytaty\n",
      "[quote][quote]\n",
      "\n",
      "kod\n",
      "\n",
      "[code:17hlnlju]lorem[/code:17hlnlju]\n",
      "\n",
      "listy\n",
      "\n",
      "\n",
      "* aaa\n",
      "* bbb\n",
      "  * aaa\n",
      "  * bbb\n",
      "* aaa\n",
      "* bbb\n",
      "* aaa\n",
      "* bbb\n",
      "\n",
      "\n",
      "1. ccc\n",
      "2. ddd\n",
      "\n",
      "\n",
      "1. eee\n",
      "2. fff\n",
      "   1. 111\n",
      "   2. 222\n",
      "   3. 333\n",
      "3. x\n",
      "   1. 111\n",
      "      1. 444\n",
      "      2. 555\n",
      "      3. 666\n",
      "   2. 333\n",
      "4. iii\n",
      "\n",
      "[img]\n",
      "\n",
      "[youtube:17hlnlju]iBxVRwynmmE[/youtube:17hlnlju]\n",
      "\n",
      "<http://www.wp.pl>[wu pe pe el](http://www.wp.pl)\n",
      "\n",
      "[s:17hlnlju]strike[/s:17hlnlju]\n",
      "\n",
      "X[super:17hlnlju]1[/super:17hlnlju]\n",
      "\n",
      "Y[sub:17hlnlju]2[/sub:17hlnlju]\n",
      "\n",
      "[tex:17hlnlju]asad[/tex:17hlnlju]\n"
     ]
    }
   ],
   "source": [
    "print(md)"
   ]
  },
  {
   "cell_type": "code",
   "execution_count": 127,
   "metadata": {},
   "outputs": [],
   "source": [
    "start_pattern = f'\\[quote(?:=\\&quot\\;([^\\&]+)\\&quot\\;)?:{bb_uid}\\]'\n",
    "end_pattern = f'\\[(\\/)quote:{bb_uid}\\]'\n",
    "tag_pattern =  start_pattern + '|' + end_pattern"
   ]
  },
  {
   "cell_type": "code",
   "execution_count": 128,
   "metadata": {},
   "outputs": [],
   "source": [
    "quote_parts = re.split(tag_pattern, post_text)"
   ]
  },
  {
   "cell_type": "code",
   "execution_count": 129,
   "metadata": {},
   "outputs": [
    {
     "data": {
      "text/plain": [
       "[{'level': 0,\n",
       "  'author': '',\n",
       "  'text': '<!-- s:fight: --><img src=\"{SMILIES_PATH}/bije.gif\" alt=\":fight:\" title=\"fight\" /><!-- s:fight: -->  <!-- s:hurra: --><img src=\"{SMILIES_PATH}/hura.gif\" alt=\":hurra:\" title=\"Hurra!\" /><!-- s:hurra: -->  <!-- s:olaboga: --><img src=\"{SMILIES_PATH}/olaboga.gif\" alt=\":olaboga:\" title=\"Olaboga\" /><!-- s:olaboga: -->  <!-- s:wnerw: --><img src=\"{SMILIES_PATH}/wnerw.gif\" alt=\":wnerw:\" title=\"wnerw\" /><!-- s:wnerw: --> \\n\\n <!-- s:fight: --><img src=\"{SMILIES_PATH}/bije.gif\" alt=\":fight:\" title=\"fight\" /><!-- s:fight: -->  <!-- s:hurra: --><img src=\"{SMILIES_PATH}/hura.gif\" alt=\":hurra:\" title=\"Hurra!\" /><!-- s:hurra: -->  <!-- s:olaboga: --><img src=\"{SMILIES_PATH}/olaboga.gif\" alt=\":olaboga:\" title=\"Olaboga\" /><!-- s:olaboga: -->  <!-- s:wnerw: --><img src=\"{SMILIES_PATH}/wnerw.gif\" alt=\":wnerw:\" title=\"wnerw\" /><!-- s:wnerw: --> \\n\\n[quote=\"trekker\":17hlnlju]bold\\n\\n[b:17hlnlju]lorem[/b:17hlnlju]\\n\\nitalic\\n\\n[i:17hlnlju]lorem[/i:17hlnlju]\\n\\nunderscore\\n\\n[u:17hlnlju]lorem[/u:17hlnlju]\\n\\ncytaty\\n'},\n",
       " {'level': 1, 'author': '', 'text': '\\njeden\\n'},\n",
       " {'level': 2, 'author': '', 'text': 'jeden.dwa'},\n",
       " {'level': 1, 'author': '', 'text': '\\ndwa\\n'},\n",
       " {'level': 2, 'author': '', 'text': 'dwa.dwa'},\n",
       " {'level': 1, 'author': '', 'text': '\\ntrzy\\n'},\n",
       " {'level': 0, 'author': '', 'text': '\\n\\n'},\n",
       " {'level': 1, 'author': '', 'text': 'cztery'},\n",
       " {'level': 0,\n",
       "  'author': '',\n",
       "  'text': '\\n\\nkod\\n\\n[code:17hlnlju]lorem[/code:17hlnlju]\\n\\nlisty\\n\\n[list:17hlnlju]\\n[*:17hlnlju]aaa[/*:m:17hlnlju]\\n[*:17hlnlju]bbb[/*:m:17hlnlju]\\n[list:17hlnlju]\\n[*:17hlnlju]aaa[/*:m:17hlnlju]\\n[*:17hlnlju]bbb[/*:m:17hlnlju]\\n[/list:u:17hlnlju]\\n[*:17hlnlju]aaa[/*:m:17hlnlju]\\n[*:17hlnlju]bbb[/*:m:17hlnlju]\\n[*:17hlnlju]aaa[/*:m:17hlnlju]\\n[*:17hlnlju]bbb[/*:m:17hlnlju]\\n[/list:u:17hlnlju]\\n\\n[list=1:17hlnlju]\\n[*:17hlnlju]ccc[/*:m:17hlnlju]\\n[*:17hlnlju]ddd[/*:m:17hlnlju]\\n[/list:o:17hlnlju]\\n\\n[list=1:17hlnlju]\\n    [*:17hlnlju]eee[/*:m:17hlnlju]\\n    [*:17hlnlju]fff[/*:m:17hlnlju]\\n    [list=a:17hlnlju]\\n        [*:17hlnlju]111[/*:m:17hlnlju]\\n        [*:17hlnlju]222[/*:m:17hlnlju]\\n        [*:17hlnlju]333[/*:m:17hlnlju]\\n    [/list:o:17hlnlju]\\n    [*:17hlnlju]x[/*:m:17hlnlju]\\n    [list=a:17hlnlju]\\n        [*:17hlnlju]111[/*:m:17hlnlju]\\n        [list=a:17hlnlju]\\n            [*:17hlnlju]444[/*:m:17hlnlju]\\n            [*:17hlnlju]555[/*:m:17hlnlju]\\n            [*:17hlnlju]666[/*:m:17hlnlju]\\n        [/list:o:17hlnlju]\\n        [*:17hlnlju]333[/*:m:17hlnlju]\\n    [/list:o:17hlnlju]\\n    [*:17hlnlju]iii[/*:m:17hlnlju]\\n[/list:o:17hlnlju]\\n\\n[img:17hlnlju]https://v.wpimg.pl/MDc0OC5wYiUCUjlwGgxvMEEKbSpcVWFmFhJ1YRpFfHwbAXxzGgQqMxMeODNWEyNqE1xgIgdHdCZWBXl1DUYvJloELnZTRSl9U1N3IQVDfHRUBHdtRRkqZh4[/img:17hlnlju]\\n\\n[youtube:17hlnlju]iBxVRwynmmE[/youtube:17hlnlju]\\n\\n[url:17hlnlju]http://www.wp.pl[/url:17hlnlju]\\n\\n[url=http://www.wp.pl:17hlnlju]wu pe pe el[/url:17hlnlju]\\n\\n[s:17hlnlju]strike[/s:17hlnlju]\\n\\nX[super:17hlnlju]1[/super:17hlnlju]\\n\\nY[sub:17hlnlju]2[/sub:17hlnlju]\\n\\n[tex:17hlnlju]asad[/tex:17hlnlju]'},\n",
       " {'level': -1, 'author': '', 'text': ''}]"
      ]
     },
     "execution_count": 129,
     "metadata": {},
     "output_type": "execute_result"
    }
   ],
   "source": [
    "quote_parts.reverse()\n",
    "tree = []\n",
    "level = 0\n",
    "tree.append({\n",
    "    \"level\" : level,\n",
    "    \"author\" : '',\n",
    "    \"text\" : quote_parts.pop()\n",
    "})\n",
    "while len(quote_parts) > 0:\n",
    "    \n",
    "    tag_start = quote_parts.pop()\n",
    "    tag_end = quote_parts.pop()\n",
    "    tag_txt = quote_parts.pop()\n",
    "    \n",
    "    auth = ''\n",
    "\n",
    "    if tag_end == '/':\n",
    "        level -= 1    \n",
    "    else:\n",
    "        level += 1\n",
    "        if tag_start is not None:\n",
    "            auth = tag_start\n",
    "    \n",
    "    tree.append({\n",
    "        \"level\" : level,\n",
    "        \"author\" : auth,\n",
    "        \"text\" : tag_txt\n",
    "    })\n",
    "    \n",
    "\n",
    "tree"
   ]
  },
  {
   "cell_type": "code",
   "execution_count": 130,
   "metadata": {},
   "outputs": [
    {
     "data": {
      "text/plain": [
       "[{'level': 0,\n",
       "  'author': '',\n",
       "  'text': '<!-- s:fight: --><img src=\"{SMILIES_PATH}/bije.gif\" alt=\":fight:\" title=\"fight\" /><!-- s:fight: -->  <!-- s:hurra: --><img src=\"{SMILIES_PATH}/hura.gif\" alt=\":hurra:\" title=\"Hurra!\" /><!-- s:hurra: -->  <!-- s:olaboga: --><img src=\"{SMILIES_PATH}/olaboga.gif\" alt=\":olaboga:\" title=\"Olaboga\" /><!-- s:olaboga: -->  <!-- s:wnerw: --><img src=\"{SMILIES_PATH}/wnerw.gif\" alt=\":wnerw:\" title=\"wnerw\" /><!-- s:wnerw: --> \\n\\n <!-- s:fight: --><img src=\"{SMILIES_PATH}/bije.gif\" alt=\":fight:\" title=\"fight\" /><!-- s:fight: -->  <!-- s:hurra: --><img src=\"{SMILIES_PATH}/hura.gif\" alt=\":hurra:\" title=\"Hurra!\" /><!-- s:hurra: -->  <!-- s:olaboga: --><img src=\"{SMILIES_PATH}/olaboga.gif\" alt=\":olaboga:\" title=\"Olaboga\" /><!-- s:olaboga: -->  <!-- s:wnerw: --><img src=\"{SMILIES_PATH}/wnerw.gif\" alt=\":wnerw:\" title=\"wnerw\" /><!-- s:wnerw: --> \\n\\n[quote=\"trekker\":17hlnlju]bold\\n\\n[b:17hlnlju]lorem[/b:17hlnlju]\\n\\nitalic\\n\\n[i:17hlnlju]lorem[/i:17hlnlju]\\n\\nunderscore\\n\\n[u:17hlnlju]lorem[/u:17hlnlju]\\n\\ncytaty\\n'},\n",
       " {'level': 1, 'author': '', 'text': '\\njeden\\n'},\n",
       " {'level': 2, 'author': '', 'text': 'jeden.dwa'},\n",
       " {'level': 1, 'author': '', 'text': '\\ndwa\\n'},\n",
       " {'level': 2, 'author': '', 'text': 'dwa.dwa'},\n",
       " {'level': 1, 'author': '', 'text': '\\ntrzy\\n'},\n",
       " {'level': 0, 'author': '', 'text': '\\n\\n'},\n",
       " {'level': 1, 'author': '', 'text': 'cztery'},\n",
       " {'level': 0,\n",
       "  'author': '',\n",
       "  'text': '\\n\\nkod\\n\\n[code:17hlnlju]lorem[/code:17hlnlju]\\n\\nlisty\\n\\n[list:17hlnlju]\\n[*:17hlnlju]aaa[/*:m:17hlnlju]\\n[*:17hlnlju]bbb[/*:m:17hlnlju]\\n[list:17hlnlju]\\n[*:17hlnlju]aaa[/*:m:17hlnlju]\\n[*:17hlnlju]bbb[/*:m:17hlnlju]\\n[/list:u:17hlnlju]\\n[*:17hlnlju]aaa[/*:m:17hlnlju]\\n[*:17hlnlju]bbb[/*:m:17hlnlju]\\n[*:17hlnlju]aaa[/*:m:17hlnlju]\\n[*:17hlnlju]bbb[/*:m:17hlnlju]\\n[/list:u:17hlnlju]\\n\\n[list=1:17hlnlju]\\n[*:17hlnlju]ccc[/*:m:17hlnlju]\\n[*:17hlnlju]ddd[/*:m:17hlnlju]\\n[/list:o:17hlnlju]\\n\\n[list=1:17hlnlju]\\n    [*:17hlnlju]eee[/*:m:17hlnlju]\\n    [*:17hlnlju]fff[/*:m:17hlnlju]\\n    [list=a:17hlnlju]\\n        [*:17hlnlju]111[/*:m:17hlnlju]\\n        [*:17hlnlju]222[/*:m:17hlnlju]\\n        [*:17hlnlju]333[/*:m:17hlnlju]\\n    [/list:o:17hlnlju]\\n    [*:17hlnlju]x[/*:m:17hlnlju]\\n    [list=a:17hlnlju]\\n        [*:17hlnlju]111[/*:m:17hlnlju]\\n        [list=a:17hlnlju]\\n            [*:17hlnlju]444[/*:m:17hlnlju]\\n            [*:17hlnlju]555[/*:m:17hlnlju]\\n            [*:17hlnlju]666[/*:m:17hlnlju]\\n        [/list:o:17hlnlju]\\n        [*:17hlnlju]333[/*:m:17hlnlju]\\n    [/list:o:17hlnlju]\\n    [*:17hlnlju]iii[/*:m:17hlnlju]\\n[/list:o:17hlnlju]\\n\\n[img:17hlnlju]https://v.wpimg.pl/MDc0OC5wYiUCUjlwGgxvMEEKbSpcVWFmFhJ1YRpFfHwbAXxzGgQqMxMeODNWEyNqE1xgIgdHdCZWBXl1DUYvJloELnZTRSl9U1N3IQVDfHRUBHdtRRkqZh4[/img:17hlnlju]\\n\\n[youtube:17hlnlju]iBxVRwynmmE[/youtube:17hlnlju]\\n\\n[url:17hlnlju]http://www.wp.pl[/url:17hlnlju]\\n\\n[url=http://www.wp.pl:17hlnlju]wu pe pe el[/url:17hlnlju]\\n\\n[s:17hlnlju]strike[/s:17hlnlju]\\n\\nX[super:17hlnlju]1[/super:17hlnlju]\\n\\nY[sub:17hlnlju]2[/sub:17hlnlju]\\n\\n[tex:17hlnlju]asad[/tex:17hlnlju]'},\n",
       " {'level': -1, 'author': '', 'text': ''}]"
      ]
     },
     "execution_count": 130,
     "metadata": {},
     "output_type": "execute_result"
    }
   ],
   "source": [
    "tree"
   ]
  },
  {
   "cell_type": "code",
   "execution_count": 131,
   "metadata": {},
   "outputs": [],
   "source": [
    "lines = []\n",
    "for item in tree:\n",
    "    a = item['author']\n",
    "    l = item['level']\n",
    "    t = item['text']\n",
    "    if a != '':\n",
    "        lines.append((l - 1) * '> ' + f'({a} napisał/a:)')\n",
    "    for line in t.split('\\n'):\n",
    "        lines.append(l * '>' + ' ' + line)"
   ]
  },
  {
   "cell_type": "code",
   "execution_count": 132,
   "metadata": {},
   "outputs": [
    {
     "ename": "NameError",
     "evalue": "name 'old' is not defined",
     "output_type": "error",
     "traceback": [
      "\u001b[0;31m---------------------------------------------------------------------------\u001b[0m",
      "\u001b[0;31mNameError\u001b[0m                                 Traceback (most recent call last)",
      "\u001b[0;32m/var/folders/3w/7s9bbrgs22z7w37hx_ms7mkm0000gn/T/ipykernel_33482/239488624.py\u001b[0m in \u001b[0;36m<module>\u001b[0;34m\u001b[0m\n\u001b[0;32m----> 1\u001b[0;31m \u001b[0;34m'aaa'\u001b[0m\u001b[0;34m.\u001b[0m\u001b[0mreplace\u001b[0m\u001b[0;34m(\u001b[0m\u001b[0mold\u001b[0m\u001b[0;34m,\u001b[0m \u001b[0mnew\u001b[0m\u001b[0;34m)\u001b[0m\u001b[0;34m\u001b[0m\u001b[0;34m\u001b[0m\u001b[0m\n\u001b[0m",
      "\u001b[0;31mNameError\u001b[0m: name 'old' is not defined"
     ]
    }
   ],
   "source": [
    "'aaa'.replace(old, new)"
   ]
  },
  {
   "cell_type": "markdown",
   "metadata": {},
   "source": [
    "x<em>2</em>"
   ]
  },
  {
   "cell_type": "code",
   "execution_count": null,
   "metadata": {},
   "outputs": [],
   "source": [
    "lines = [l.replace(f'[b:{bb_uid}]', ' **') for l in lines]\n",
    "lines = [l.replace(f'[/b:{bb_uid}]', '** ') for l in lines]\n",
    "lines = [l.replace(f'[u:{bb_uid}]', ' <u>') for l in lines]\n",
    "lines = [l.replace(f'[/u:{bb_uid}]', '</u> ') for l in lines]\n",
    "lines = [l.replace(f'[i:{bb_uid}]', ' _') for l in lines]\n",
    "lines = [l.replace(f'[/i:{bb_uid}]', '_ ') for l in lines]\n",
    "for l in lines:\n",
    "    print(l)"
   ]
  },
  {
   "cell_type": "code",
   "execution_count": null,
   "metadata": {},
   "outputs": [],
   "source": [
    "items_list = [\n",
    "    {\"l\" : 0, \"v\" : 'a', \"type\" : 'text'},\n",
    "    {\"l\" : 1, \"v\" : 'b', \"type\" : 'b'},\n",
    "    {\"l\" : 1, \"v\" : 'c', \"type\" : 'quote'},\n",
    "    {\"l\" : 2, \"v\" : 'd', \"type\" : 'quote'},\n",
    "    {\"l\" : 1, \"v\" : 'e', \"type\" : 'text'},\n",
    "    {\"l\" : 2, \"v\" : 'f'},\n",
    "    {\"l\" : 1, \"v\" : 'g'},\n",
    "    {\"l\" : 0, \"v\" : 'h'},\n",
    "    {\"l\" : 1, \"v\" : 'i'},\n",
    "    {\"l\" : 0, \"v\" : 'j'}\n",
    "]\n",
    "items_list.reverse()"
   ]
  },
  {
   "cell_type": "code",
   "execution_count": null,
   "metadata": {},
   "outputs": [],
   "source": [
    "root = {\n",
    "    \"type\" : 'text',\n",
    "    \"content\" : []\n",
    "}\n",
    "branch = root\n",
    "levels = []\n",
    "current_level = 0\n",
    "\n",
    "while len(items_list) > 0:\n",
    "    item = items_list.pop()\n",
    "    \n",
    "    if item['l'] == current_level:\n",
    "        branch['content'].append(\n",
    "            {\n",
    "                \"type\" : 'text',\n",
    "                \"content\" : [item['v']]\n",
    "            }\n",
    "        )\n",
    "\n",
    "    if item['l'] > current_level:\n",
    "        current_level += 1\n",
    "        \n",
    "        new_branch = {\n",
    "            \"type\" : \"text\",\n",
    "            \"content\" : []\n",
    "        }\n",
    "        new_branch['content'].append(item['v'])\n",
    "        \n",
    "        branch['content'].append(new_branch)\n",
    "        levels.append(branch)\n",
    "        branch = new_branch\n",
    "    \n",
    "    if item['l'] < current_level:\n",
    "        current_level -= 1\n",
    "        branch = levels.pop()\n",
    "        branch['content'].append(item['v'])\n",
    "\n",
    "\n",
    "root\n"
   ]
  }
 ],
 "metadata": {
  "kernelspec": {
   "display_name": "Python 3",
   "language": "python",
   "name": "python3"
  },
  "language_info": {
   "codemirror_mode": {
    "name": "ipython",
    "version": 3
   },
   "file_extension": ".py",
   "mimetype": "text/x-python",
   "name": "python",
   "nbconvert_exporter": "python",
   "pygments_lexer": "ipython3",
   "version": "3.9.13"
  }
 },
 "nbformat": 4,
 "nbformat_minor": 2
}
