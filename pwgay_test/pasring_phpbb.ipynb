{
 "cells": [
  {
   "cell_type": "code",
   "execution_count": 1,
   "metadata": {},
   "outputs": [],
   "source": [
    "import re"
   ]
  },
  {
   "cell_type": "code",
   "execution_count": 2,
   "metadata": {},
   "outputs": [],
   "source": [
    "with open(\"post.txt\", 'r') as f:\n",
    "    post_text = f.read()"
   ]
  },
  {
   "cell_type": "code",
   "execution_count": 3,
   "metadata": {},
   "outputs": [],
   "source": [
    "bb_uid = '17hlnlju'"
   ]
  },
  {
   "cell_type": "code",
   "execution_count": 4,
   "metadata": {},
   "outputs": [],
   "source": [
    "paired_tags = 'quote|b|u|i|list|url|img|\\*'\n",
    "start_pattern = f'\\[((?:{paired_tags})[^\\:]*)\\:{bb_uid}\\]'\n",
    "end_pattern = f'\\[\\/({paired_tags})(?:\\:m|\\:u|\\:o)?\\:{bb_uid}\\]'\n",
    "split1 = re.split(start_pattern, post_text)\n",
    "x = [\n",
    "        [ {\"type\" : \"text\", \"value\" : e } if i%2 ==0 else {\"type\" : \"finish\", \"value\" : e} for i, e in enumerate(re.split(end_pattern, item))]\n",
    "        if index%2 == 0\n",
    "        else [{\"type\" : \"start\", \"value\" : item}]\n",
    "        for index, item in enumerate(split1)\n",
    "    ]\n",
    "t = []\n",
    "for i in x:\n",
    "    t += i"
   ]
  },
  {
   "cell_type": "code",
   "execution_count": 5,
   "metadata": {},
   "outputs": [
    {
     "data": {
      "text/plain": [
       "{'type': 'root',\n",
       " 'elements': [{'type': 'text',\n",
       "   'value': '<!-- s:fight: --><img src=\"{SMILIES_PATH}/bije.gif\" alt=\":fight:\" title=\"fight\" /><!-- s:fight: -->  <!-- s:hurra: --><img src=\"{SMILIES_PATH}/hura.gif\" alt=\":hurra:\" title=\"Hurra!\" /><!-- s:hurra: -->  <!-- s:olaboga: --><img src=\"{SMILIES_PATH}/olaboga.gif\" alt=\":olaboga:\" title=\"Olaboga\" /><!-- s:olaboga: -->  <!-- s:wnerw: --><img src=\"{SMILIES_PATH}/wnerw.gif\" alt=\":wnerw:\" title=\"wnerw\" /><!-- s:wnerw: --> \\n\\n <!-- s:fight: --><img src=\"{SMILIES_PATH}/bije.gif\" alt=\":fight:\" title=\"fight\" /><!-- s:fight: -->  <!-- s:hurra: --><img src=\"{SMILIES_PATH}/hura.gif\" alt=\":hurra:\" title=\"Hurra!\" /><!-- s:hurra: -->  <!-- s:olaboga: --><img src=\"{SMILIES_PATH}/olaboga.gif\" alt=\":olaboga:\" title=\"Olaboga\" /><!-- s:olaboga: -->  <!-- s:wnerw: --><img src=\"{SMILIES_PATH}/wnerw.gif\" alt=\":wnerw:\" title=\"wnerw\" /><!-- s:wnerw: --> \\n\\n'},\n",
       "  {'type': 'quote',\n",
       "   'value': '&quot;trekker&quot;',\n",
       "   'elements': [{'type': 'text', 'value': 'bold\\n\\n'},\n",
       "    {'type': 'b',\n",
       "     'value': '',\n",
       "     'elements': [{'type': 'text', 'value': 'lorem'}]},\n",
       "    {'type': 'text', 'value': '\\n\\nitalic\\n\\n'},\n",
       "    {'type': 'i]lorem[/]\\n\\nunderscore\\n\\n[u]lorem[/]\\n\\ncytaty\\n[quote',\n",
       "     'value': '',\n",
       "     'elements': [{'type': 'text', 'value': '\\njeden\\n'},\n",
       "      {'type': 'quote',\n",
       "       'value': '',\n",
       "       'elements': [{'type': 'text', 'value': 'jeden.dwa'}]},\n",
       "      {'type': 'text', 'value': '\\ndwa\\n'},\n",
       "      {'type': 'quote',\n",
       "       'value': '',\n",
       "       'elements': [{'type': 'text', 'value': 'dwa.dwa'}]},\n",
       "      {'type': 'text', 'value': '\\ntrzy\\n'}]},\n",
       "    {'type': 'text', 'value': '\\n\\n'},\n",
       "    {'type': 'quote',\n",
       "     'value': '',\n",
       "     'elements': [{'type': 'text', 'value': 'cztery'}]},\n",
       "    {'type': 'text',\n",
       "     'value': '\\n\\nkod\\n\\n[code:17hlnlju]lorem[/code:17hlnlju]\\n\\nlisty\\n\\n'},\n",
       "    {'type': 'list',\n",
       "     'value': '',\n",
       "     'elements': [{'type': 'text', 'value': '\\n'},\n",
       "      {'type': '*',\n",
       "       'value': '',\n",
       "       'elements': [{'type': 'text', 'value': 'aaa'}]},\n",
       "      {'type': 'text', 'value': '\\n'},\n",
       "      {'type': '*',\n",
       "       'value': '',\n",
       "       'elements': [{'type': 'text', 'value': 'bbb'}]},\n",
       "      {'type': 'text', 'value': ''}]},\n",
       "    {'type': 'text', 'value': '\\n\\n'},\n",
       "    {'type': 'list',\n",
       "     'value': '1',\n",
       "     'elements': [{'type': 'text', 'value': '\\n'},\n",
       "      {'type': '*',\n",
       "       'value': '',\n",
       "       'elements': [{'type': 'text', 'value': 'ccc'}]},\n",
       "      {'type': 'text', 'value': '\\n'},\n",
       "      {'type': '*',\n",
       "       'value': '',\n",
       "       'elements': [{'type': 'text', 'value': 'ddd'}]},\n",
       "      {'type': 'text', 'value': ''}]},\n",
       "    {'type': 'text', 'value': '\\n\\n'},\n",
       "    {'type': 'list',\n",
       "     'value': '1',\n",
       "     'elements': [{'type': 'text', 'value': '\\n'},\n",
       "      {'type': '*',\n",
       "       'value': '',\n",
       "       'elements': [{'type': 'text', 'value': 'eee'}]},\n",
       "      {'type': 'text', 'value': '\\n'},\n",
       "      {'type': '*',\n",
       "       'value': '',\n",
       "       'elements': [{'type': 'text', 'value': 'fff\\n'},\n",
       "        {'type': 'list',\n",
       "         'value': 'a',\n",
       "         'elements': [{'type': 'text', 'value': '\\n'},\n",
       "          {'type': '*',\n",
       "           'value': '',\n",
       "           'elements': [{'type': 'text', 'value': 'ggg'}]},\n",
       "          {'type': 'text', 'value': '\\n'},\n",
       "          {'type': '*',\n",
       "           'value': '',\n",
       "           'elements': [{'type': 'text', 'value': 'hhh'}]},\n",
       "          {'type': 'text', 'value': ''}]},\n",
       "        {'type': 'text', 'value': ''}]},\n",
       "      {'type': 'text', 'value': '\\n'},\n",
       "      {'type': '*',\n",
       "       'value': '',\n",
       "       'elements': [{'type': 'text', 'value': 'iii'}]},\n",
       "      {'type': 'text', 'value': ''}]},\n",
       "    {'type': 'text', 'value': '\\n\\n'},\n",
       "    {'type': 'img',\n",
       "     'value': '',\n",
       "     'elements': [{'type': 'text',\n",
       "       'value': 'https&#58;//v&#46;wpimg&#46;pl/MDc0OC5wYiUCUjlwGgxvMEEKbSpcVWFmFhJ1YRpFfHwbAXxzGgQqMxMeODNWEyNqE1xgIgdHdCZWBXl1DUYvJloELnZTRSl9U1N3IQVDfHRUBHdtRRkqZh4'}]},\n",
       "    {'type': 'text',\n",
       "     'value': '\\n\\n[youtube:17hlnlju]iBxVRwynmmE[/youtube:17hlnlju]\\n\\n'},\n",
       "    {'type': 'url',\n",
       "     'value': '',\n",
       "     'elements': [{'type': 'text', 'value': 'http&#58;//www&#46;wp&#46;pl'}]},\n",
       "    {'type': 'text', 'value': '\\n\\n'},\n",
       "    {'type': 'url',\n",
       "     'value': 'http&#58;//www&#46;wp&#46;pl',\n",
       "     'elements': [{'type': 'text', 'value': 'wu pe pe el'}]},\n",
       "    {'type': 'text',\n",
       "     'value': '\\n\\n[s:17hlnlju]strike[/s:17hlnlju]\\n\\nX[super:17hlnlju]1[/super:17hlnlju]\\n\\nY[sub:17hlnlju]2[/sub:17hlnlju]\\n\\n[tex:17hlnlju]asad[/tex:17hlnlju]'}]},\n",
       "  {'type': 'text', 'value': ''}]}"
      ]
     },
     "execution_count": 5,
     "metadata": {},
     "output_type": "execute_result"
    }
   ],
   "source": [
    "t.reverse()\n",
    "\n",
    "root = {\n",
    "    \"type\" : \"root\",\n",
    "    \"elements\" : []\n",
    "}\n",
    "branch = root\n",
    "breadcrumbs = []\n",
    "\n",
    "while len(t) > 0:\n",
    "    item = t.pop()\n",
    "\n",
    "    if item['type'] == 'text':\n",
    "        branch['elements'].append({\n",
    "            \"type\" : \"text\",\n",
    "            \"value\" : item['value']\n",
    "        })\n",
    "    \n",
    "    if item['type'] == 'start':\n",
    "        item_parts =  item['value'].split('=')\n",
    "        item_parts.append('')\n",
    "        leaf = {\n",
    "            \"type\" : item_parts[0],\n",
    "            \"value\" : item_parts[1],\n",
    "            \"elements\" : []\n",
    "        }\n",
    "        branch['elements'].append(leaf)\n",
    "        breadcrumbs.append(branch)\n",
    "        branch = leaf\n",
    "\n",
    "    if item['type'] == 'finish':\n",
    "        branch = breadcrumbs.pop()\n",
    "\n",
    "root"
   ]
  },
  {
   "cell_type": "code",
   "execution_count": 6,
   "metadata": {},
   "outputs": [
    {
     "ename": "SyntaxError",
     "evalue": "cannot assign to subscript here. Maybe you meant '==' instead of '='? (1246246279.py, line 2)",
     "output_type": "error",
     "traceback": [
      "\u001b[0;36m  Cell \u001b[0;32mIn[6], line 2\u001b[0;36m\u001b[0m\n\u001b[0;31m    if element['type'] = \"text\":\u001b[0m\n\u001b[0m       ^\u001b[0m\n\u001b[0;31mSyntaxError\u001b[0m\u001b[0;31m:\u001b[0m cannot assign to subscript here. Maybe you meant '==' instead of '='?\n"
     ]
    }
   ],
   "source": [
    "def render(element):\n",
    "    if element['type'] = \"text\":\n",
    "        return element['value']\n",
    "    if element['type'] = \"b\":\n",
    "        t = ' **'\n",
    "        for i in element['elements']:\n",
    "            t += render(i)\n",
    "        t += '** '\n",
    "    return t   \n",
    "        "
   ]
  },
  {
   "cell_type": "code",
   "execution_count": 364,
   "metadata": {},
   "outputs": [],
   "source": [
    "start_pattern = f'\\[quote(?:=\\&quot\\;([^\\&]+)\\&quot\\;)?:{bb_uid}\\]'\n",
    "end_pattern = f'\\[(\\/)quote:{bb_uid}\\]'\n",
    "tag_pattern =  start_pattern + '|' + end_pattern"
   ]
  },
  {
   "cell_type": "code",
   "execution_count": 365,
   "metadata": {},
   "outputs": [],
   "source": [
    "quote_parts = re.split(tag_pattern, post_text)"
   ]
  },
  {
   "cell_type": "code",
   "execution_count": 366,
   "metadata": {},
   "outputs": [
    {
     "data": {
      "text/plain": [
       "[{'level': 0,\n",
       "  'author': '',\n",
       "  'text': 'bold\\n\\n[b:2dgkza2d]lorem[/b:2dgkza2d]\\n\\nitalic\\n\\n[i:2dgkza2d]lorem[/i:2dgkza2d]\\n\\nunderscore\\n\\n[u:2dgkza2d]lorem[/u:2dgkza2d]\\n\\ncytaty\\n'},\n",
       " {'level': 1, 'author': '', 'text': '\\njeden\\n'},\n",
       " {'level': 2, 'author': 'trekker', 'text': 'jeden.dwa'},\n",
       " {'level': 1, 'author': '', 'text': '\\ndwa\\n'},\n",
       " {'level': 2, 'author': '', 'text': 'dwa.dwa'},\n",
       " {'level': 1, 'author': '', 'text': '\\ntrzy\\n'},\n",
       " {'level': 0, 'author': '', 'text': '\\n\\n'},\n",
       " {'level': 1, 'author': 'beniu', 'text': 'cztery'},\n",
       " {'level': 0,\n",
       "  'author': '',\n",
       "  'text': '\\n\\nkod\\n\\n[code:2dgkza2d]lorem[/code:2dgkza2d]\\n\\nlisty\\n\\n[list:2dgkza2d]\\n[*:2dgkza2d]aaa[/*:m:2dgkza2d]\\n[*:2dgkza2d]bbb[/*:m:2dgkza2d][/list:u:2dgkza2d]\\n\\n[list=1:2dgkza2d]\\n[*:2dgkza2d]ccc[/*:m:2dgkza2d]\\n[*:2dgkza2d]ddd[/*:m:2dgkza2d][/list:o:2dgkza2d]\\n\\n[list=1:2dgkza2d]\\n[*:2dgkza2d]eee[/*:m:2dgkza2d]\\n[*:2dgkza2d]fff\\n[list=a:2dgkza2d]\\n[*:2dgkza2d]ggg[/*:m:2dgkza2d]\\n[*:2dgkza2d]hhh[/*:m:2dgkza2d][/list:o:2dgkza2d][/*:m:2dgkza2d]\\n[*:2dgkza2d]iii[/*:m:2dgkza2d][/list:o:2dgkza2d]\\n\\n[img:2dgkza2d]https&#58;//v&#46;wpimg&#46;pl/MDc0OC5wYiUCUjlwGgxvMEEKbSpcVWFmFhJ1YRpFfHwbAXxzGgQqMxMeODNWEyNqE1xgIgdHdCZWBXl1DUYvJloELnZTRSl9U1N3IQVDfHRUBHdtRRkqZh4[/img:2dgkza2d]\\n\\n[youtube:2dgkza2d]iBxVRwynmmE[/youtube:2dgkza2d]\\n\\n[url:2dgkza2d]http&#58;//www&#46;wp&#46;pl[/url:2dgkza2d]\\n\\n[url=http&#58;//www&#46;wp&#46;pl:2dgkza2d]wu pe pe el[/url:2dgkza2d]\\n\\n[s:2dgkza2d]strike[/s:2dgkza2d]\\n\\nX[super:2dgkza2d]1[/super:2dgkza2d]\\n\\nY[sub:2dgkza2d]2[/sub:2dgkza2d]\\n\\n[tex:2dgkza2d]asad[/tex:2dgkza2d]'}]"
      ]
     },
     "execution_count": 366,
     "metadata": {},
     "output_type": "execute_result"
    }
   ],
   "source": [
    "quote_parts.reverse()\n",
    "tree = []\n",
    "level = 0\n",
    "tree.append({\n",
    "    \"level\" : level,\n",
    "    \"author\" : '',\n",
    "    \"text\" : quote_parts.pop()\n",
    "})\n",
    "while len(quote_parts) > 0:\n",
    "    \n",
    "    tag_start = quote_parts.pop()\n",
    "    tag_end = quote_parts.pop()\n",
    "    tag_txt = quote_parts.pop()\n",
    "    \n",
    "    auth = ''\n",
    "\n",
    "    if tag_end == '/':\n",
    "        level -= 1    \n",
    "    else:\n",
    "        level += 1\n",
    "        if tag_start is not None:\n",
    "            auth = tag_start\n",
    "    \n",
    "    tree.append({\n",
    "        \"level\" : level,\n",
    "        \"author\" : auth,\n",
    "        \"text\" : tag_txt\n",
    "    })\n",
    "    \n",
    "\n",
    "tree"
   ]
  },
  {
   "cell_type": "code",
   "execution_count": 367,
   "metadata": {},
   "outputs": [
    {
     "data": {
      "text/plain": [
       "[{'level': 0,\n",
       "  'author': '',\n",
       "  'text': 'bold\\n\\n[b:2dgkza2d]lorem[/b:2dgkza2d]\\n\\nitalic\\n\\n[i:2dgkza2d]lorem[/i:2dgkza2d]\\n\\nunderscore\\n\\n[u:2dgkza2d]lorem[/u:2dgkza2d]\\n\\ncytaty\\n'},\n",
       " {'level': 1, 'author': '', 'text': '\\njeden\\n'},\n",
       " {'level': 2, 'author': 'trekker', 'text': 'jeden.dwa'},\n",
       " {'level': 1, 'author': '', 'text': '\\ndwa\\n'},\n",
       " {'level': 2, 'author': '', 'text': 'dwa.dwa'},\n",
       " {'level': 1, 'author': '', 'text': '\\ntrzy\\n'},\n",
       " {'level': 0, 'author': '', 'text': '\\n\\n'},\n",
       " {'level': 1, 'author': 'beniu', 'text': 'cztery'},\n",
       " {'level': 0,\n",
       "  'author': '',\n",
       "  'text': '\\n\\nkod\\n\\n[code:2dgkza2d]lorem[/code:2dgkza2d]\\n\\nlisty\\n\\n[list:2dgkza2d]\\n[*:2dgkza2d]aaa[/*:m:2dgkza2d]\\n[*:2dgkza2d]bbb[/*:m:2dgkza2d][/list:u:2dgkza2d]\\n\\n[list=1:2dgkza2d]\\n[*:2dgkza2d]ccc[/*:m:2dgkza2d]\\n[*:2dgkza2d]ddd[/*:m:2dgkza2d][/list:o:2dgkza2d]\\n\\n[list=1:2dgkza2d]\\n[*:2dgkza2d]eee[/*:m:2dgkza2d]\\n[*:2dgkza2d]fff\\n[list=a:2dgkza2d]\\n[*:2dgkza2d]ggg[/*:m:2dgkza2d]\\n[*:2dgkza2d]hhh[/*:m:2dgkza2d][/list:o:2dgkza2d][/*:m:2dgkza2d]\\n[*:2dgkza2d]iii[/*:m:2dgkza2d][/list:o:2dgkza2d]\\n\\n[img:2dgkza2d]https&#58;//v&#46;wpimg&#46;pl/MDc0OC5wYiUCUjlwGgxvMEEKbSpcVWFmFhJ1YRpFfHwbAXxzGgQqMxMeODNWEyNqE1xgIgdHdCZWBXl1DUYvJloELnZTRSl9U1N3IQVDfHRUBHdtRRkqZh4[/img:2dgkza2d]\\n\\n[youtube:2dgkza2d]iBxVRwynmmE[/youtube:2dgkza2d]\\n\\n[url:2dgkza2d]http&#58;//www&#46;wp&#46;pl[/url:2dgkza2d]\\n\\n[url=http&#58;//www&#46;wp&#46;pl:2dgkza2d]wu pe pe el[/url:2dgkza2d]\\n\\n[s:2dgkza2d]strike[/s:2dgkza2d]\\n\\nX[super:2dgkza2d]1[/super:2dgkza2d]\\n\\nY[sub:2dgkza2d]2[/sub:2dgkza2d]\\n\\n[tex:2dgkza2d]asad[/tex:2dgkza2d]'}]"
      ]
     },
     "execution_count": 367,
     "metadata": {},
     "output_type": "execute_result"
    }
   ],
   "source": [
    "tree"
   ]
  },
  {
   "cell_type": "code",
   "execution_count": 368,
   "metadata": {},
   "outputs": [],
   "source": [
    "lines = []\n",
    "for item in tree:\n",
    "    a = item['author']\n",
    "    l = item['level']\n",
    "    t = item['text']\n",
    "    if a != '':\n",
    "        lines.append((l - 1) * '> ' + f'({a} napisał/a:)')\n",
    "    for line in t.split('\\n'):\n",
    "        lines.append(l * '>' + ' ' + line)"
   ]
  },
  {
   "cell_type": "code",
   "execution_count": 369,
   "metadata": {},
   "outputs": [
    {
     "ename": "NameError",
     "evalue": "name 'old' is not defined",
     "output_type": "error",
     "traceback": [
      "\u001b[0;31m---------------------------------------------------------------------------\u001b[0m",
      "\u001b[0;31mNameError\u001b[0m                                 Traceback (most recent call last)",
      "\u001b[1;32m/home/trekker/Documents/pwgay_test/pasring_phpbb.ipynb Cell 9\u001b[0m line \u001b[0;36m1\n\u001b[0;32m----> <a href='vscode-notebook-cell:/home/trekker/Documents/pwgay_test/pasring_phpbb.ipynb#X45sZmlsZQ%3D%3D?line=0'>1</a>\u001b[0m \u001b[39m'\u001b[39m\u001b[39maaa\u001b[39m\u001b[39m'\u001b[39m\u001b[39m.\u001b[39mreplace(old, new)\n",
      "\u001b[0;31mNameError\u001b[0m: name 'old' is not defined"
     ]
    }
   ],
   "source": [
    "'aaa'.replace(old, new)"
   ]
  },
  {
   "cell_type": "markdown",
   "metadata": {},
   "source": [
    "x<em>2</em>"
   ]
  },
  {
   "cell_type": "code",
   "execution_count": 371,
   "metadata": {},
   "outputs": [
    {
     "name": "stdout",
     "output_type": "stream",
     "text": [
      " bold\n",
      " \n",
      "  **lorem** \n",
      " \n",
      " italic\n",
      " \n",
      "  _lorem_ \n",
      " \n",
      " underscore\n",
      " \n",
      "  <u>lorem</u> \n",
      " \n",
      " cytaty\n",
      " \n",
      "> \n",
      "> jeden\n",
      "> \n",
      "> (trekker napisał/a:)\n",
      ">> jeden.dwa\n",
      "> \n",
      "> dwa\n",
      "> \n",
      ">> dwa.dwa\n",
      "> \n",
      "> trzy\n",
      "> \n",
      " \n",
      " \n",
      " \n",
      "(beniu napisał/a:)\n",
      "> cztery\n",
      " \n",
      " \n",
      " kod\n",
      " \n",
      " [code:2dgkza2d]lorem[/code:2dgkza2d]\n",
      " \n",
      " listy\n",
      " \n",
      " [list:2dgkza2d]\n",
      " [*:2dgkza2d]aaa[/*:m:2dgkza2d]\n",
      " [*:2dgkza2d]bbb[/*:m:2dgkza2d][/list:u:2dgkza2d]\n",
      " \n",
      " [list=1:2dgkza2d]\n",
      " [*:2dgkza2d]ccc[/*:m:2dgkza2d]\n",
      " [*:2dgkza2d]ddd[/*:m:2dgkza2d][/list:o:2dgkza2d]\n",
      " \n",
      " [list=1:2dgkza2d]\n",
      " [*:2dgkza2d]eee[/*:m:2dgkza2d]\n",
      " [*:2dgkza2d]fff\n",
      " [list=a:2dgkza2d]\n",
      " [*:2dgkza2d]ggg[/*:m:2dgkza2d]\n",
      " [*:2dgkza2d]hhh[/*:m:2dgkza2d][/list:o:2dgkza2d][/*:m:2dgkza2d]\n",
      " [*:2dgkza2d]iii[/*:m:2dgkza2d][/list:o:2dgkza2d]\n",
      " \n",
      " [img:2dgkza2d]https&#58;//v&#46;wpimg&#46;pl/MDc0OC5wYiUCUjlwGgxvMEEKbSpcVWFmFhJ1YRpFfHwbAXxzGgQqMxMeODNWEyNqE1xgIgdHdCZWBXl1DUYvJloELnZTRSl9U1N3IQVDfHRUBHdtRRkqZh4[/img:2dgkza2d]\n",
      " \n",
      " [youtube:2dgkza2d]iBxVRwynmmE[/youtube:2dgkza2d]\n",
      " \n",
      " [url:2dgkza2d]http&#58;//www&#46;wp&#46;pl[/url:2dgkza2d]\n",
      " \n",
      " [url=http&#58;//www&#46;wp&#46;pl:2dgkza2d]wu pe pe el[/url:2dgkza2d]\n",
      " \n",
      " [s:2dgkza2d]strike[/s:2dgkza2d]\n",
      " \n",
      " X[super:2dgkza2d]1[/super:2dgkza2d]\n",
      " \n",
      " Y[sub:2dgkza2d]2[/sub:2dgkza2d]\n",
      " \n",
      " [tex:2dgkza2d]asad[/tex:2dgkza2d]\n"
     ]
    }
   ],
   "source": [
    "lines = [l.replace(f'[b:{bb_uid}]', ' **') for l in lines]\n",
    "lines = [l.replace(f'[/b:{bb_uid}]', '** ') for l in lines]\n",
    "lines = [l.replace(f'[u:{bb_uid}]', ' <u>') for l in lines]\n",
    "lines = [l.replace(f'[/u:{bb_uid}]', '</u> ') for l in lines]\n",
    "lines = [l.replace(f'[i:{bb_uid}]', ' _') for l in lines]\n",
    "lines = [l.replace(f'[/i:{bb_uid}]', '_ ') for l in lines]\n",
    "for l in lines:\n",
    "    print(l)"
   ]
  },
  {
   "cell_type": "code",
   "execution_count": 424,
   "metadata": {},
   "outputs": [],
   "source": [
    "items_list = [\n",
    "    {\"l\" : 0, \"v\" : 'a', \"type\" : 'text'},\n",
    "    {\"l\" : 1, \"v\" : 'b', \"type\" : 'b'},\n",
    "    {\"l\" : 1, \"v\" : 'c', \"type\" : 'quote'},\n",
    "    {\"l\" : 2, \"v\" : 'd', \"type\" : 'quote'},\n",
    "    {\"l\" : 1, \"v\" : 'e', \"type\" : 'text'},\n",
    "    {\"l\" : 2, \"v\" : 'f'},\n",
    "    {\"l\" : 1, \"v\" : 'g'},\n",
    "    {\"l\" : 0, \"v\" : 'h'},\n",
    "    {\"l\" : 1, \"v\" : 'i'},\n",
    "    {\"l\" : 0, \"v\" : 'j'}\n",
    "]\n",
    "items_list.reverse()"
   ]
  },
  {
   "cell_type": "code",
   "execution_count": 425,
   "metadata": {},
   "outputs": [
    {
     "data": {
      "text/plain": [
       "{'type': 'text',\n",
       " 'content': ['a',\n",
       "  {'type': 'text',\n",
       "   'content': ['b',\n",
       "    'c',\n",
       "    {'type': 'text', 'content': ['d']},\n",
       "    'e',\n",
       "    {'type': 'text', 'content': ['f']},\n",
       "    'g']},\n",
       "  'h',\n",
       "  {'type': 'text', 'content': ['i']},\n",
       "  'j']}"
      ]
     },
     "execution_count": 425,
     "metadata": {},
     "output_type": "execute_result"
    }
   ],
   "source": [
    "root = {\n",
    "    \"type\" : 'text',\n",
    "    \"content\" : []\n",
    "}\n",
    "branch = root\n",
    "levels = []\n",
    "current_level = 0\n",
    "\n",
    "while len(items_list) > 0:\n",
    "    item = items_list.pop()\n",
    "    \n",
    "    if item['l'] == current_level:\n",
    "        branch['content'].append(\n",
    "            {\n",
    "                \"type\" : 'text',\n",
    "                \"content\" : [item['v']]\n",
    "            }\n",
    "        )\n",
    "\n",
    "    if item['l'] > current_level:\n",
    "        current_level += 1\n",
    "        \n",
    "        new_branch = {\n",
    "            \"type\" : \"text\",\n",
    "            \"content\" : []\n",
    "        }\n",
    "        new_branch['content'].append(item['v'])\n",
    "        \n",
    "        branch['content'].append(new_branch)\n",
    "        levels.append(branch)\n",
    "        branch = new_branch\n",
    "    \n",
    "    if item['l'] < current_level:\n",
    "        current_level -= 1\n",
    "        branch = levels.pop()\n",
    "        branch['content'].append(item['v'])\n",
    "\n",
    "\n",
    "root\n"
   ]
  }
 ],
 "metadata": {
  "kernelspec": {
   "display_name": "Python 3",
   "language": "python",
   "name": "python3"
  },
  "language_info": {
   "codemirror_mode": {
    "name": "ipython",
    "version": 3
   },
   "file_extension": ".py",
   "mimetype": "text/x-python",
   "name": "python",
   "nbconvert_exporter": "python",
   "pygments_lexer": "ipython3",
   "version": "3.10.12"
  }
 },
 "nbformat": 4,
 "nbformat_minor": 2
}
