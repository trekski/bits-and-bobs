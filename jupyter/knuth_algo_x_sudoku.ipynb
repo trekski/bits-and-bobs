{
 "cells": [
  {
   "cell_type": "code",
   "execution_count": 129,
   "metadata": {},
   "outputs": [],
   "source": [
    "from functools import reduce"
   ]
  },
  {
   "cell_type": "code",
   "execution_count": 30,
   "metadata": {},
   "outputs": [],
   "source": [
    "class node:\n",
    "\n",
    "    def __init__(self):\n",
    "        self.up = self\n",
    "        self.down = self\n",
    "        self.left = self\n",
    "        self.right = self\n",
    "        self.COLUMN = None\n",
    "        self.ROW = None\n",
    "\n",
    "    def hideInCol(self):\n",
    "        self.up.down = self.down\n",
    "        self.down.up = self.up\n",
    "        return self\n",
    "\n",
    "    def showIncol(self):\n",
    "        self.up.down = self\n",
    "        self.down.up = self\n",
    "        return self\n",
    "\n",
    "    def hideInCol(self):\n",
    "        self.left.right = self.right\n",
    "        self.right.left = self.left\n",
    "        return self\n",
    "\n",
    "    def showInCol(self):\n",
    "        self.left.right = self\n",
    "        self.right.left = self\n",
    "        return self\n",
    "\n",
    "    def hideWholeRow(self, start = None):\n",
    "        if start == None: # if we just started the loop, don't hide me from my column, but go to my neighbor\n",
    "            self.right.hideWholeRow(start = self)\n",
    "            return\n",
    "        if start != self: # we are not first and not last => hide me and continue\n",
    "            self.hideInCol()\n",
    "            self.right.hideWholeRow(start = start)\n",
    "            return\n",
    "        return # last possibility start == self => we have looped and can finish\n",
    "    \n",
    "    def getNeighbor(self, direction, by=0):\n",
    "        neighbor = {\n",
    "            'left'  : self.left,\n",
    "            'right' : self.right,\n",
    "            'up'    : self.up,\n",
    "            'down'  : self.down\n",
    "        }[direction]\n",
    "        if by > 0:\n",
    "            return neighbor.getNeighbor(direction, by = by-1)\n",
    "        return neighbor\n",
    "\n",
    "\n"
   ]
  },
  {
   "cell_type": "code",
   "execution_count": 31,
   "metadata": {},
   "outputs": [],
   "source": [
    "class columnHeader(node):\n",
    "\n",
    "    def __init__(self, label):\n",
    "        super().__init__()\n",
    "        self.column_label = label\n",
    "        self.row_count = 0\n",
    "        self.COL = self\n",
    "\n",
    "    def hideMyRows(self):\n",
    "        cell = self.down\n",
    "        while cell != self:\n",
    "            cell.hideWholeRow()\n",
    "            cell = cell.down\n",
    "        return self\n",
    "\n",
    "    def showMyRows(self):\n",
    "        cell = self.down\n",
    "        while cell != self:\n",
    "            cell.showWholeRow()\n",
    "            cell = cell.down\n",
    "        return self\n",
    "\n",
    "    def appendRow(self, row):\n",
    "        row.down = self\n",
    "        row.up = self.up\n",
    "        self.up.down = row\n",
    "        self.up = row\n",
    "        return self\n",
    "\n",
    "    def addToRoot(self, root):\n",
    "        root.appendColumn(self)\n",
    "        return self"
   ]
  },
  {
   "cell_type": "code",
   "execution_count": 32,
   "metadata": {},
   "outputs": [],
   "source": [
    "class rowHeader(node):\n",
    "    \n",
    "    def __init__(self, label):\n",
    "        super().__init__()\n",
    "        self.row_label = label\n",
    "        self.ROW = self\n",
    "\n",
    "    def appendColumn(self, col):\n",
    "        col.right = self\n",
    "        col.left = self.left\n",
    "        self.left.right = col\n",
    "        self.left = col\n",
    "        return self\n",
    "\n",
    "    def addToRoot(self, root):\n",
    "        root.appendRow(self)\n",
    "        return self\n"
   ]
  },
  {
   "cell_type": "code",
   "execution_count": 33,
   "metadata": {},
   "outputs": [],
   "source": [
    "class rootNode(columnHeader, rowHeader):\n",
    "\n",
    "    def __init__(self):\n",
    "        node.__init__(self)\n",
    "        self.ROW = self\n",
    "        self.COL = self\n",
    "\n",
    "    def addToRoot(self, root):\n",
    "        pass"
   ]
  },
  {
   "cell_type": "code",
   "execution_count": 51,
   "metadata": {},
   "outputs": [],
   "source": [
    "matrix_root = rootNode()\n",
    "\n",
    "# generate column header labels \n",
    "constraint_type = {\n",
    "    'cell' : {\n",
    "        'label_template' : 'R{i}C{j}',\n",
    "        'dim_1' : 'R',\n",
    "        'dim_2' : 'C',\n",
    "    },\n",
    "    'row' : {\n",
    "        'label_template' : 'R{i}#{j}',\n",
    "        'dim_1' : 'R',\n",
    "        'dim_2' : '#',\n",
    "    },\n",
    "    'col' : {\n",
    "        'label_template' : 'C{i}#{j}',\n",
    "        'dim_1' : 'C',\n",
    "        'dim_2' : '#',\n",
    "    },\n",
    "    'box' : {\n",
    "        'label_template' : 'B{i}#{j}',\n",
    "        'dim_1' : 'B',\n",
    "        'dim_2' : '#',\n",
    "    },\n",
    "}\n",
    "\n",
    "column_headers = { \n",
    "    c : {\n",
    "        i : {\n",
    "            j : columnHeader(constraint_type[c]['label_template'].format(i = i, j = j)).addToRoot(matrix_root)\n",
    "            for j in range(1,10)\n",
    "        }\n",
    "        for i in range(1, 10)\n",
    "    }\n",
    "    for c in constraint_type\n",
    "}"
   ]
  },
  {
   "cell_type": "code",
   "execution_count": 84,
   "metadata": {},
   "outputs": [],
   "source": [
    "# generate row labels\n",
    "\n",
    "row_labels = {\n",
    "    i : {\n",
    "        j : {\n",
    "            k : {\n",
    "                'R' : i,\n",
    "                'C' : j,\n",
    "                'B' : (j-1) // 3 + 3 * ((i-1) // 3) + 1,\n",
    "                '#' : k,\n",
    "                'label' : f'R{i}C{j}#{k}'\n",
    "            }\n",
    "            for k in range(1,10)\n",
    "        }\n",
    "        for j in range(1,10)\n",
    "    }\n",
    "    for i in range(1,10)\n",
    "}"
   ]
  },
  {
   "cell_type": "code",
   "execution_count": 88,
   "metadata": {},
   "outputs": [],
   "source": [
    "# construct the sparse matrix\n",
    "\n",
    "for row_grp in row_labels.values():\n",
    "    for row_set in row_grp.values():\n",
    "        for row in row_set.values():\n",
    "\n",
    "            row_header = rowHeader(row)\n",
    "            matrix_root.appendRow(row_header)\n",
    "\n",
    "            for c_name, c_specs in constraint_type.items():\n",
    "\n",
    "                cell = node()\n",
    "                row_header.appendColumn(cell)\n",
    "                cell.ROW = row_header\n",
    "                column_header = column_headers[c_name][row[c_specs['dim_1']]][row[c_specs['dim_2']]]\n",
    "                cell.COL = column_header\n",
    "                column_header.appendRow(cell)\n",
    "\n",
    "            row['obj'] = row_header\n",
    "\n"
   ]
  },
  {
   "cell_type": "code",
   "execution_count": 150,
   "metadata": {},
   "outputs": [],
   "source": [
    "# file I/O utilities\n",
    "\n",
    "def read_sudoku(filename):\n",
    "    with open(filename, 'r') as f:\n",
    "        lines = f.readlines(121)\n",
    "        print(len(lines))\n",
    "    tab = [\n",
    "        {\n",
    "            'R' : l_id + 1,\n",
    "            'C' : ch_id + 1,\n",
    "            '#' : ch\n",
    "        }\n",
    "        for l_id, line in enumerate(lines)\n",
    "        for ch_id, ch in enumerate(line)\n",
    "        if (ch != '-' and ch != '\\n')\n",
    "    ]\n",
    "    return tab\n",
    "\n",
    "def write_sudoku(solution, filename):\n",
    "    tab = [['-' for i in range(1,10)] for j in range(1,10)]\n",
    "    for item in solution:\n",
    "        tab[item['R']-1][item['C']-1] = str(item['#'])\n",
    "    \n",
    "    res = '\\n'.join([\n",
    "        ''.join(line) for line in tab\n",
    "    ])\n",
    "    return res\n"
   ]
  },
  {
   "cell_type": "code",
   "execution_count": 151,
   "metadata": {},
   "outputs": [
    {
     "name": "stdout",
     "output_type": "stream",
     "text": [
      "3\n"
     ]
    }
   ],
   "source": [
    "x = read_sudoku('input_1.sudoku')"
   ]
  },
  {
   "cell_type": "code",
   "execution_count": 152,
   "metadata": {},
   "outputs": [
    {
     "data": {
      "text/plain": [
       "'--1--2---\\n-3--5----\\n-4-7-8---\\n---------\\n---------\\n---------\\n---------\\n---------\\n---------'"
      ]
     },
     "execution_count": 152,
     "metadata": {},
     "output_type": "execute_result"
    }
   ],
   "source": [
    "write_sudoku(x, 'x')"
   ]
  },
  {
   "cell_type": "code",
   "execution_count": null,
   "metadata": {},
   "outputs": [],
   "source": []
  }
 ],
 "metadata": {
  "interpreter": {
   "hash": "80f8d7f2798a172c4609f0b85023f2ae853783bd22ae04be0d110eed51bf920e"
  },
  "kernelspec": {
   "display_name": "Python 3.8.5 ('base')",
   "language": "python",
   "name": "python3"
  },
  "language_info": {
   "codemirror_mode": {
    "name": "ipython",
    "version": 3
   },
   "file_extension": ".py",
   "mimetype": "text/x-python",
   "name": "python",
   "nbconvert_exporter": "python",
   "pygments_lexer": "ipython3",
   "version": "3.10.4"
  },
  "orig_nbformat": 4
 },
 "nbformat": 4,
 "nbformat_minor": 2
}
