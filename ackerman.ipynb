{
 "cells": [
  {
   "cell_type": "code",
   "execution_count": 1,
   "metadata": {},
   "outputs": [],
   "source": [
    "class ackerman:\n",
    "  \n",
    "  cache = {}\n",
    "\n",
    "  @classmethod\n",
    "  def calc(cls, x, y):\n",
    "\n",
    "    result = ackerman.cache.get((x,y))\n",
    "\n",
    "    if result != None:\n",
    "      return result\n",
    "    \n",
    "    if x == 0 :\n",
    "        result = y + 1 \n",
    "        \n",
    "    elif y == 0:\n",
    "        result = ackerman.calc(x-1, 1)\n",
    "\n",
    "    else:\n",
    "      result = ackerman.calc(x-1, ackerman.calc(x, y-1))\n",
    "\n",
    "    ackerman.cache[(x, y)] = result\n",
    "    return result\n"
   ]
  },
  {
   "cell_type": "code",
   "execution_count": 18,
   "metadata": {},
   "outputs": [
    {
     "name": "stdout",
     "output_type": "stream",
     "text": [
      "3, 0 : 5\n",
      "3, 1 : 13\n",
      "3, 2 : 29\n",
      "3, 3 : 61\n",
      "3, 4 : 125\n",
      "3, 5 : 253\n",
      "3, 6 : 509\n",
      "3, 7 : 1021\n",
      "3, 8 : 2045\n",
      "3, 9 : 4093\n",
      "3, 10 : 8189\n"
     ]
    },
    {
     "ename": "RecursionError",
     "evalue": "maximum recursion depth exceeded while calling a Python object",
     "output_type": "error",
     "traceback": [
      "\u001b[0;31m---------------------------------------------------------------------------\u001b[0m",
      "\u001b[0;31mRecursionError\u001b[0m                            Traceback (most recent call last)",
      "\u001b[1;32m/Users/jacek/Documents/GitHub/bits-and-bobs/ackerman.ipynb Komórka 2\u001b[0m in \u001b[0;36m<cell line: 3>\u001b[0;34m()\u001b[0m\n\u001b[1;32m      <a href='vscode-notebook-cell:/Users/jacek/Documents/GitHub/bits-and-bobs/ackerman.ipynb#W1sZmlsZQ%3D%3D?line=1'>2</a>\u001b[0m x \u001b[39m=\u001b[39m \u001b[39m3\u001b[39m\n\u001b[1;32m      <a href='vscode-notebook-cell:/Users/jacek/Documents/GitHub/bits-and-bobs/ackerman.ipynb#W1sZmlsZQ%3D%3D?line=2'>3</a>\u001b[0m \u001b[39mfor\u001b[39;00m y \u001b[39min\u001b[39;00m \u001b[39mrange\u001b[39m (lim):\n\u001b[1;32m      <a href='vscode-notebook-cell:/Users/jacek/Documents/GitHub/bits-and-bobs/ackerman.ipynb#W1sZmlsZQ%3D%3D?line=3'>4</a>\u001b[0m \u001b[39m#  for y in range(lim-x):\u001b[39;00m\n\u001b[0;32m----> <a href='vscode-notebook-cell:/Users/jacek/Documents/GitHub/bits-and-bobs/ackerman.ipynb#W1sZmlsZQ%3D%3D?line=4'>5</a>\u001b[0m     \u001b[39mprint\u001b[39m(\u001b[39mf\u001b[39m\u001b[39m\"\u001b[39m\u001b[39m{\u001b[39;00mx\u001b[39m}\u001b[39;00m\u001b[39m, \u001b[39m\u001b[39m{\u001b[39;00my\u001b[39m}\u001b[39;00m\u001b[39m : \u001b[39m\u001b[39m{\u001b[39;00mackerman\u001b[39m.\u001b[39mcalc(x, y)\u001b[39m}\u001b[39;00m\u001b[39m\"\u001b[39m)\n",
      "\u001b[1;32m/Users/jacek/Documents/GitHub/bits-and-bobs/ackerman.ipynb Komórka 2\u001b[0m in \u001b[0;36mackerman.calc\u001b[0;34m(cls, x, y)\u001b[0m\n\u001b[1;32m     <a href='vscode-notebook-cell:/Users/jacek/Documents/GitHub/bits-and-bobs/ackerman.ipynb#W1sZmlsZQ%3D%3D?line=16'>17</a>\u001b[0m     result \u001b[39m=\u001b[39m ackerman\u001b[39m.\u001b[39mcalc(x\u001b[39m-\u001b[39m\u001b[39m1\u001b[39m, \u001b[39m1\u001b[39m)\n\u001b[1;32m     <a href='vscode-notebook-cell:/Users/jacek/Documents/GitHub/bits-and-bobs/ackerman.ipynb#W1sZmlsZQ%3D%3D?line=18'>19</a>\u001b[0m \u001b[39melse\u001b[39;00m:\n\u001b[0;32m---> <a href='vscode-notebook-cell:/Users/jacek/Documents/GitHub/bits-and-bobs/ackerman.ipynb#W1sZmlsZQ%3D%3D?line=19'>20</a>\u001b[0m   result \u001b[39m=\u001b[39m ackerman\u001b[39m.\u001b[39;49mcalc(x\u001b[39m-\u001b[39;49m\u001b[39m1\u001b[39;49m, ackerman\u001b[39m.\u001b[39;49mcalc(x, y\u001b[39m-\u001b[39;49m\u001b[39m1\u001b[39;49m))\n\u001b[1;32m     <a href='vscode-notebook-cell:/Users/jacek/Documents/GitHub/bits-and-bobs/ackerman.ipynb#W1sZmlsZQ%3D%3D?line=21'>22</a>\u001b[0m ackerman\u001b[39m.\u001b[39mcache[(x, y)] \u001b[39m=\u001b[39m result\n\u001b[1;32m     <a href='vscode-notebook-cell:/Users/jacek/Documents/GitHub/bits-and-bobs/ackerman.ipynb#W1sZmlsZQ%3D%3D?line=22'>23</a>\u001b[0m \u001b[39mreturn\u001b[39;00m result\n",
      "\u001b[1;32m/Users/jacek/Documents/GitHub/bits-and-bobs/ackerman.ipynb Komórka 2\u001b[0m in \u001b[0;36mackerman.calc\u001b[0;34m(cls, x, y)\u001b[0m\n\u001b[1;32m     <a href='vscode-notebook-cell:/Users/jacek/Documents/GitHub/bits-and-bobs/ackerman.ipynb#W1sZmlsZQ%3D%3D?line=16'>17</a>\u001b[0m     result \u001b[39m=\u001b[39m ackerman\u001b[39m.\u001b[39mcalc(x\u001b[39m-\u001b[39m\u001b[39m1\u001b[39m, \u001b[39m1\u001b[39m)\n\u001b[1;32m     <a href='vscode-notebook-cell:/Users/jacek/Documents/GitHub/bits-and-bobs/ackerman.ipynb#W1sZmlsZQ%3D%3D?line=18'>19</a>\u001b[0m \u001b[39melse\u001b[39;00m:\n\u001b[0;32m---> <a href='vscode-notebook-cell:/Users/jacek/Documents/GitHub/bits-and-bobs/ackerman.ipynb#W1sZmlsZQ%3D%3D?line=19'>20</a>\u001b[0m   result \u001b[39m=\u001b[39m ackerman\u001b[39m.\u001b[39mcalc(x\u001b[39m-\u001b[39m\u001b[39m1\u001b[39m, ackerman\u001b[39m.\u001b[39;49mcalc(x, y\u001b[39m-\u001b[39;49m\u001b[39m1\u001b[39;49m))\n\u001b[1;32m     <a href='vscode-notebook-cell:/Users/jacek/Documents/GitHub/bits-and-bobs/ackerman.ipynb#W1sZmlsZQ%3D%3D?line=21'>22</a>\u001b[0m ackerman\u001b[39m.\u001b[39mcache[(x, y)] \u001b[39m=\u001b[39m result\n\u001b[1;32m     <a href='vscode-notebook-cell:/Users/jacek/Documents/GitHub/bits-and-bobs/ackerman.ipynb#W1sZmlsZQ%3D%3D?line=22'>23</a>\u001b[0m \u001b[39mreturn\u001b[39;00m result\n",
      "    \u001b[0;31m[... skipping similar frames: ackerman.calc at line 20 (2969 times)]\u001b[0m\n",
      "\u001b[1;32m/Users/jacek/Documents/GitHub/bits-and-bobs/ackerman.ipynb Komórka 2\u001b[0m in \u001b[0;36mackerman.calc\u001b[0;34m(cls, x, y)\u001b[0m\n\u001b[1;32m     <a href='vscode-notebook-cell:/Users/jacek/Documents/GitHub/bits-and-bobs/ackerman.ipynb#W1sZmlsZQ%3D%3D?line=16'>17</a>\u001b[0m     result \u001b[39m=\u001b[39m ackerman\u001b[39m.\u001b[39mcalc(x\u001b[39m-\u001b[39m\u001b[39m1\u001b[39m, \u001b[39m1\u001b[39m)\n\u001b[1;32m     <a href='vscode-notebook-cell:/Users/jacek/Documents/GitHub/bits-and-bobs/ackerman.ipynb#W1sZmlsZQ%3D%3D?line=18'>19</a>\u001b[0m \u001b[39melse\u001b[39;00m:\n\u001b[0;32m---> <a href='vscode-notebook-cell:/Users/jacek/Documents/GitHub/bits-and-bobs/ackerman.ipynb#W1sZmlsZQ%3D%3D?line=19'>20</a>\u001b[0m   result \u001b[39m=\u001b[39m ackerman\u001b[39m.\u001b[39mcalc(x\u001b[39m-\u001b[39m\u001b[39m1\u001b[39m, ackerman\u001b[39m.\u001b[39;49mcalc(x, y\u001b[39m-\u001b[39;49m\u001b[39m1\u001b[39;49m))\n\u001b[1;32m     <a href='vscode-notebook-cell:/Users/jacek/Documents/GitHub/bits-and-bobs/ackerman.ipynb#W1sZmlsZQ%3D%3D?line=21'>22</a>\u001b[0m ackerman\u001b[39m.\u001b[39mcache[(x, y)] \u001b[39m=\u001b[39m result\n\u001b[1;32m     <a href='vscode-notebook-cell:/Users/jacek/Documents/GitHub/bits-and-bobs/ackerman.ipynb#W1sZmlsZQ%3D%3D?line=22'>23</a>\u001b[0m \u001b[39mreturn\u001b[39;00m result\n",
      "\u001b[1;32m/Users/jacek/Documents/GitHub/bits-and-bobs/ackerman.ipynb Komórka 2\u001b[0m in \u001b[0;36mackerman.calc\u001b[0;34m(cls, x, y)\u001b[0m\n\u001b[1;32m      <a href='vscode-notebook-cell:/Users/jacek/Documents/GitHub/bits-and-bobs/ackerman.ipynb#W1sZmlsZQ%3D%3D?line=4'>5</a>\u001b[0m \u001b[39m@classmethod\u001b[39m\n\u001b[1;32m      <a href='vscode-notebook-cell:/Users/jacek/Documents/GitHub/bits-and-bobs/ackerman.ipynb#W1sZmlsZQ%3D%3D?line=5'>6</a>\u001b[0m \u001b[39mdef\u001b[39;00m \u001b[39mcalc\u001b[39m(\u001b[39mcls\u001b[39m, x, y):\n\u001b[0;32m----> <a href='vscode-notebook-cell:/Users/jacek/Documents/GitHub/bits-and-bobs/ackerman.ipynb#W1sZmlsZQ%3D%3D?line=7'>8</a>\u001b[0m   result \u001b[39m=\u001b[39m ackerman\u001b[39m.\u001b[39;49mcache\u001b[39m.\u001b[39;49mget((x,y))\n\u001b[1;32m     <a href='vscode-notebook-cell:/Users/jacek/Documents/GitHub/bits-and-bobs/ackerman.ipynb#W1sZmlsZQ%3D%3D?line=9'>10</a>\u001b[0m   \u001b[39mif\u001b[39;00m result \u001b[39m!=\u001b[39m \u001b[39mNone\u001b[39;00m:\n\u001b[1;32m     <a href='vscode-notebook-cell:/Users/jacek/Documents/GitHub/bits-and-bobs/ackerman.ipynb#W1sZmlsZQ%3D%3D?line=10'>11</a>\u001b[0m     \u001b[39mreturn\u001b[39;00m result\n",
      "\u001b[0;31mRecursionError\u001b[0m: maximum recursion depth exceeded while calling a Python object"
     ]
    }
   ],
   "source": [
    "lim = 23\n",
    "x = 3\n",
    "for y in range (lim):\n",
    "#  for y in range(lim-x):\n",
    "    print(f\"{x}, {y} : {ackerman.calc(x, y)}\")"
   ]
  },
  {
   "cell_type": "code",
   "execution_count": 28,
   "metadata": {},
   "outputs": [
    {
     "data": {
      "text/plain": [
       "True"
      ]
     },
     "execution_count": 28,
     "metadata": {},
     "output_type": "execute_result"
    }
   ],
   "source": [
    "cached = x.get('d')\n",
    "cached == None"
   ]
  },
  {
   "cell_type": "code",
   "execution_count": null,
   "metadata": {},
   "outputs": [],
   "source": []
  }
 ],
 "metadata": {
  "kernelspec": {
   "display_name": "Python 3",
   "language": "python",
   "name": "python3"
  },
  "language_info": {
   "codemirror_mode": {
    "name": "ipython",
    "version": 3
   },
   "file_extension": ".py",
   "mimetype": "text/x-python",
   "name": "python",
   "nbconvert_exporter": "python",
   "pygments_lexer": "ipython3",
   "version": "3.10.4"
  },
  "orig_nbformat": 4
 },
 "nbformat": 4,
 "nbformat_minor": 2
}
